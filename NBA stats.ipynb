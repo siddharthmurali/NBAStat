{
 "cells": [
  {
   "cell_type": "markdown",
   "metadata": {},
   "source": [
    "## Team Metrics"
   ]
  },
  {
   "cell_type": "code",
   "execution_count": 31,
   "metadata": {
    "collapsed": true
   },
   "outputs": [],
   "source": [
    "def poss(FGA,FTA,ORB,TO):\n",
    "    return 0.96*(FGA + 0.44*FTA - ORB + TO)\n",
    "\n",
    "def ts(POINTS,FGA,FTA):\n",
    "    return 0.5*POINTS/(FGA+0.44*FTA)\n",
    "\n",
    "def shotops(POSS,ORB,TO):\n",
    "    return 1+(ORB-TO)/POSS\n",
    "\n",
    "def efg(FGM,THREES,FGA):\n",
    "    return (FGM + 0.5*THREES)/FGA"
   ]
  },
  {
   "cell_type": "code",
   "execution_count": 34,
   "metadata": {
    "collapsed": false
   },
   "outputs": [],
   "source": [
    "fgm = 43\n",
    "fga = 84\n",
    "fta = 30\n",
    "orb = 10\n",
    "to = 14\n",
    "points = 119\n",
    "threes = 11"
   ]
  },
  {
   "cell_type": "code",
   "execution_count": 35,
   "metadata": {
    "collapsed": false
   },
   "outputs": [
    {
     "name": "stdout",
     "output_type": "stream",
     "text": [
      "Possessions: 32.4864\n",
      "         Shot Opportunities: 0.9384357762017337\n",
      "         True Shooting: 0.832286432160804\n",
      "         Points Per Possession: 0.8868869381018665\n",
      "         Effective FG: 0.7777777777777778\n"
     ]
    }
   ],
   "source": [
    "p = poss(27,11,0,2)\n",
    "so = shotops(p,0,2)\n",
    "truesh = ts(53,27,11)\n",
    "ppp = truesh/so\n",
    "efffg = efg(17,8,27)\n",
    "output = \"Possessions: {}\\n \\\n",
    "        Shot Opportunities: {}\\n \\\n",
    "        True Shooting: {}\\n \\\n",
    "        Points Per Possession: {}\\n \\\n",
    "        Effective FG: {}\".format(p,so,truesh,ppp,efffg)\n",
    "print(output)"
   ]
  },
  {
   "cell_type": "code",
   "execution_count": null,
   "metadata": {
    "collapsed": true
   },
   "outputs": [],
   "source": []
  }
 ],
 "metadata": {
  "kernelspec": {
   "display_name": "Python 3",
   "language": "python",
   "name": "python3"
  },
  "language_info": {
   "codemirror_mode": {
    "name": "ipython",
    "version": 3
   },
   "file_extension": ".py",
   "mimetype": "text/x-python",
   "name": "python",
   "nbconvert_exporter": "python",
   "pygments_lexer": "ipython3",
   "version": "3.4.3"
  }
 },
 "nbformat": 4,
 "nbformat_minor": 0
}
